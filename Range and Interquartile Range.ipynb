{
 "cells": [
  {
   "cell_type": "code",
   "execution_count": 1,
   "id": "3fc656e1-4702-4605-b0e6-8dd511883597",
   "metadata": {},
   "outputs": [],
   "source": [
    "import pandas as pd\n",
    "import numpy as np\n",
    "import matplotlib.pyplot as plt\n",
    "import seaborn as sns\n",
    "\n",
    "sns.set()"
   ]
  },
  {
   "cell_type": "markdown",
   "id": "d8eb14d6-7bef-4729-9427-1690a2029f0b",
   "metadata": {},
   "source": [
    "_Variance_ of a data indicates how dispersed the data is from the mean. In this notebook, two variability measures - _range_ and _interquartile range (IQR)_ will be discussed.\n",
    "\n",
    "Interquartile range provides a rough measure of the variability of the distribution. This measure is better than measuring with the range. As range is a difference between the maximum and minimum value of the data points, it can be influenced greatly by outliers."
   ]
  },
  {
   "cell_type": "code",
   "execution_count": 46,
   "id": "adb6e463-c058-4142-bac7-53d7b03e06b1",
   "metadata": {},
   "outputs": [],
   "source": [
    "x1 = np.random.normal(0,0.5,100)\n",
    "x2 = np.random.normal(0,0.5,100)\n",
    "x2 = np.append(x2,5)"
   ]
  },
  {
   "cell_type": "markdown",
   "id": "d99e8013-b894-4ebe-994b-bb9729f7a2b1",
   "metadata": {},
   "source": [
    "Let's say we have the following distributions:"
   ]
  },
  {
   "cell_type": "code",
   "execution_count": 47,
   "id": "55cc2f53-e53a-4b2a-844d-54aadc038010",
   "metadata": {},
   "outputs": [
    {
     "data": {
      "image/png": "[encoded data removed]",
      "text/plain": [
       "<Figure size 864x360 with 2 Axes>"
      ]
     },
     "metadata": {},
     "output_type": "display_data"
    }
   ],
   "source": [
    "plt.figure(figsize=(12,5))\n",
    "plt.subplot(1,2,1)\n",
    "plt.title('Distribution 1')\n",
    "plt.hist(x1,bins=50)\n",
    "plt.subplot(1,2,2)\n",
    "plt.title('Distribution 2')\n",
    "plt.hist(x2,bins=50)\n",
    "plt.show()"
   ]
  },
  {
   "cell_type": "code",
   "execution_count": 48,
   "id": "b82eca4d-2d5f-4c9a-9c05-1bf8560d5d34",
   "metadata": {},
   "outputs": [
    {
     "name": "stdout",
     "output_type": "stream",
     "text": [
      "Distribution 1 range: 2.5568512018725307\n",
      "Distribution 2 range: 6.029438669362012\n"
     ]
    }
   ],
   "source": [
    "# Measuring variability with range\n",
    "dist1_range = x1.max() - x1.min()\n",
    "dist2_range = x2.max() - x2.min()\n",
    "\n",
    "print(f'Distribution 1 range: {dist1_range}')\n",
    "print(f'Distribution 2 range: {dist2_range}')"
   ]
  },
  {
   "cell_type": "markdown",
   "id": "b1137d75-6d81-42a8-bd55-5eea644b62c5",
   "metadata": {},
   "source": [
    "As seen in the histograms, **distribution 2** has an outlier despite having the same standard deviation if the outlier is excluded. The range calculated for both **distribution 1** and **distribution 2** are approximately 2.55 and 6.03 respectively. The outlier has influenced the variability measure greatly, which is misleading as both distributions have similar variability."
   ]
  },
  {
   "cell_type": "markdown",
   "id": "d53413e9-858e-4fbc-aef0-91b9797790c1",
   "metadata": {},
   "source": [
    "Alternatively, we can use the _interquartile range_ to measure variability. The interquartile range does **not** take into account of outliers, which provides a good measure of variability of the data."
   ]
  },
  {
   "attachments": {
    "b2c83fce-f6ea-464d-9527-475cce49e4b9.png": {
     "image/png": "[encoded data removed]"
    }
   },
   "cell_type": "markdown",
   "id": "5c6e25f5-1e11-446d-8671-0a8edf45929f",
   "metadata": {},
   "source": [
    "![image.png](attachment:b2c83fce-f6ea-464d-9527-475cce49e4b9.png)"
   ]
  },
  {
   "cell_type": "markdown",
   "id": "ec60e44b-c3e1-48db-92e8-81a17e222bda",
   "metadata": {},
   "source": [
    "The dataset is sorted in ascending order and split into 4 quartiles. As seen in the image above, the interquartile range is the difference between Q3 and Q1. To calculate the interquartile range, we need to do the following:\n",
    "\n",
    "1. Sort the data in ascending order and find the median.\n",
    "2. After finding the median, split the data in half and find the median for both halves.\n",
    "3. The two medians in step 2 found will be the value for Q1 and Q3 respectively.\n",
    "\n",
    "Finally,\n",
    "$$\\text{Interquartile range}= Q3 - Q1$$"
   ]
  },
  {
   "cell_type": "code",
   "execution_count": 128,
   "id": "f48af66a-93c0-4897-b2fa-f9c1ce326473",
   "metadata": {},
   "outputs": [],
   "source": [
    "def find_median(x):\n",
    "    N = len(x)\n",
    "    median = 0\n",
    "    \n",
    "    if N % 2 != 0:\n",
    "        idx = int(N / 2)   # Index of the median\n",
    "        median = x[idx]\n",
    "    else:\n",
    "        idx = int(N / 2)\n",
    "        median = (x[idx - 1] + x[idx]) / 2\n",
    "    \n",
    "    return median"
   ]
  },
  {
   "cell_type": "code",
   "execution_count": 121,
   "id": "87b2ff86-4156-40a9-9a92-88b5747ed6a0",
   "metadata": {},
   "outputs": [],
   "source": [
    "def calculate_iqr(x):\n",
    "    x.sort()\n",
    "    N = len(x)\n",
    "    N_half = int(N / 2)\n",
    "    first_half,second_half = [0,0]\n",
    "    \n",
    "    # Obtain the median of the first and second half after splitting the data in half\n",
    "    if N % 2 == 0:\n",
    "        first_half = x[:N_half]\n",
    "        second_half = x[N_half:]\n",
    "    else:\n",
    "        first_half = x[:N_half]\n",
    "        second_half = x[N_half + 1:]\n",
    "    \n",
    "    # IQR = Q3 - Q1\n",
    "    q1 = find_median(first_half)\n",
    "    q3 = find_median(second_half)\n",
    "\n",
    "    return q3 - q1"
   ]
  },
  {
   "cell_type": "markdown",
   "id": "8c9c2b3d-39bd-496c-87dc-c81288718a53",
   "metadata": {},
   "source": [
    "For example, let's say we have the following data:\n",
    "\n",
    "$$23,25,28,28,32,33,35$$\n",
    "\n",
    "\n",
    "We first split the data in half, we get:\n",
    "\n",
    "$$\\text{First half}=23,25,28$$\n",
    "$$\\text{Second half}=32,33,35$$\n",
    "\n",
    "We then take the median of each half:\n",
    "\n",
    "$$Q1 = 25,Q2 = 33$$\n",
    "\n",
    "Finally, we can obtain the IQR by taking the difference between Q3 and Q1:\n",
    "\n",
    "$$IQR = 33 - 25 = 8$$"
   ]
  },
  {
   "cell_type": "code",
   "execution_count": 126,
   "id": "e9c15068-ac76-45bb-887a-5f23c20d586f",
   "metadata": {},
   "outputs": [
    {
     "name": "stdout",
     "output_type": "stream",
     "text": [
      "IQR: 8\n"
     ]
    }
   ],
   "source": [
    "values = [23,25,28,28,32,33,35]\n",
    "print(f'IQR: {calculate_iqr(values)}')"
   ]
  },
  {
   "cell_type": "markdown",
   "id": "9dc02ae2-c927-4e40-8805-c645493a2e1e",
   "metadata": {},
   "source": [
    "#### In the previous example, our range is:\n",
    "\n",
    "Distribution 1: 2.55\n",
    "\n",
    "Distribution 2: 6.03\n",
    "\n",
    "The IQR for the distributions are:"
   ]
  },
  {
   "cell_type": "code",
   "execution_count": 129,
   "id": "f3cb6de1-f981-4ed7-84d8-bda6d26d9989",
   "metadata": {},
   "outputs": [
    {
     "name": "stdout",
     "output_type": "stream",
     "text": [
      "IQR for distribution 1: 0.6853553989375837\n",
      "IQR for distribution 2: 0.6853553989375837\n"
     ]
    }
   ],
   "source": [
    "iqr1 = calculate_iqr(x1)\n",
    "iqr2 = calculate_iqr(x1)\n",
    "\n",
    "print(f'IQR for distribution 1: {iqr1}')\n",
    "print(f'IQR for distribution 2: {iqr2}')"
   ]
  },
  {
   "cell_type": "markdown",
   "id": "a8ca79c5-1224-4cac-8d3a-16ff38e2906d",
   "metadata": {},
   "source": [
    "We obtain the exact same IQR for both distributions as data points in Q1 an Q3 are not taken into account. This shows that the _interquartile range_ is a better measure for variability than range as it is not affected by outliers.\n",
    "\n",
    "With a boxplot, we can visualize the distribution."
   ]
  },
  {
   "cell_type": "code",
   "execution_count": 132,
   "id": "14b54e0e-29d5-4b46-926d-eab54fbc6053",
   "metadata": {},
   "outputs": [
    {
     "data": {
      "image/png": "[encoded data removed]",
      "text/plain": [
       "<Figure size 864x360 with 2 Axes>"
      ]
     },
     "metadata": {},
     "output_type": "display_data"
    }
   ],
   "source": [
    "plt.figure(figsize=(12,5))\n",
    "plt.subplot(1,2,1)\n",
    "plt.title('Distribution 1')\n",
    "plt.boxplot(x1)\n",
    "plt.subplot(1,2,2)\n",
    "plt.title('Distribution 2')\n",
    "plt.boxplot(x2)\n",
    "plt.show()"
   ]
  },
  {
   "cell_type": "markdown",
   "id": "87b6034d-11c9-4ff9-85de-d0315e9145d3",
   "metadata": {},
   "source": [
    "The red line in the boxplot represent the median for the data; with Q3 above the red line, and Q1 below it. The circle represents the outlier in the data.\n",
    "The horizontal line above the top whisker represents the maximum value of the data, and the horizontal line below the bottom whisker is the minimum. \n",
    "\n",
    "Any value that is **above**:\n",
    "\n",
    "$$Q3 + 1.5 \\cdot \\text{IQR}$$\n",
    "\n",
    "or **below**:\n",
    "\n",
    "$$Q1 - 1.5 \\cdot \\text{IQR}$$\n",
    "\n",
    "is an outlier."
   ]
  }
 ],
 "metadata": {
  "kernelspec": {
   "display_name": "Python 3",
   "language": "python",
   "name": "python3"
  },
  "language_info": {
   "codemirror_mode": {
    "name": "ipython",
    "version": 3
   },
   "file_extension": ".py",
   "mimetype": "text/x-python",
   "name": "python",
   "nbconvert_exporter": "python",
   "pygments_lexer": "ipython3",
   "version": "3.8.8"
  }
 },
 "nbformat": 4,
 "nbformat_minor": 5
}
