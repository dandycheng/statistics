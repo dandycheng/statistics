{
 "cells": [
  {
   "cell_type": "code",
   "execution_count": 207,
   "id": "085ec56b-4fca-4e9c-80e8-7827d6eccd0d",
   "metadata": {},
   "outputs": [],
   "source": [
    "import pandas as pd\n",
    "import numpy as np\n",
    "import matplotlib.pyplot as plt\n",
    "import seaborn as sns\n",
    "\n",
    "sns.set()"
   ]
  },
  {
   "cell_type": "markdown",
   "id": "a2925f63-e159-4edc-870f-4426b29ed53c",
   "metadata": {},
   "source": [
    "A frequency table allows us to summarize from a large dataset. For instance, suppose we have a table that shows the marks achieved by 1000 students for a particular subject, as shown in the table below. Due to the amount of data we have, it is impossible to analyze the data one by one. However, we can summarize this by converting them into _categorical variables_, and identify the occurence of each category."
   ]
  },
  {
   "cell_type": "code",
   "execution_count": 208,
   "id": "fc010453-7e73-43d2-89bd-f94a012e8dde",
   "metadata": {},
   "outputs": [
    {
     "data": {
      "text/html": [
       "<div>\n",
       "<style scoped>\n",
       "    .dataframe tbody tr th:only-of-type {\n",
       "        vertical-align: middle;\n",
       "    }\n",
       "\n",
       "    .dataframe tbody tr th {\n",
       "        vertical-align: top;\n",
       "    }\n",
       "\n",
       "    .dataframe thead th {\n",
       "        text-align: right;\n",
       "    }\n",
       "</style>\n",
       "<table border=\"1\" class=\"dataframe\">\n",
       "  <thead>\n",
       "    <tr style=\"text-align: right;\">\n",
       "      <th></th>\n",
       "      <th>Marks</th>\n",
       "    </tr>\n",
       "  </thead>\n",
       "  <tbody>\n",
       "    <tr>\n",
       "      <th>0</th>\n",
       "      <td>51</td>\n",
       "    </tr>\n",
       "    <tr>\n",
       "      <th>1</th>\n",
       "      <td>44</td>\n",
       "    </tr>\n",
       "    <tr>\n",
       "      <th>2</th>\n",
       "      <td>58</td>\n",
       "    </tr>\n",
       "    <tr>\n",
       "      <th>3</th>\n",
       "      <td>67</td>\n",
       "    </tr>\n",
       "    <tr>\n",
       "      <th>4</th>\n",
       "      <td>46</td>\n",
       "    </tr>\n",
       "    <tr>\n",
       "      <th>...</th>\n",
       "      <td>...</td>\n",
       "    </tr>\n",
       "    <tr>\n",
       "      <th>995</th>\n",
       "      <td>41</td>\n",
       "    </tr>\n",
       "    <tr>\n",
       "      <th>996</th>\n",
       "      <td>43</td>\n",
       "    </tr>\n",
       "    <tr>\n",
       "      <th>997</th>\n",
       "      <td>39</td>\n",
       "    </tr>\n",
       "    <tr>\n",
       "      <th>998</th>\n",
       "      <td>53</td>\n",
       "    </tr>\n",
       "    <tr>\n",
       "      <th>999</th>\n",
       "      <td>43</td>\n",
       "    </tr>\n",
       "  </tbody>\n",
       "</table>\n",
       "<p>1000 rows × 1 columns</p>\n",
       "</div>"
      ],
      "text/plain": [
       "     Marks\n",
       "0       51\n",
       "1       44\n",
       "2       58\n",
       "3       67\n",
       "4       46\n",
       "..     ...\n",
       "995     41\n",
       "996     43\n",
       "997     39\n",
       "998     53\n",
       "999     43\n",
       "\n",
       "[1000 rows x 1 columns]"
      ]
     },
     "execution_count": 208,
     "metadata": {},
     "output_type": "execute_result"
    }
   ],
   "source": [
    "grades = np.random.poisson(50,1000)\n",
    "df_grades = pd.DataFrame(grades,columns=['Marks'])\n",
    "\n",
    "df_grades"
   ]
  },
  {
   "cell_type": "code",
   "execution_count": 209,
   "id": "4aeb1fbc-ec38-499a-b661-c08a12f4fc65",
   "metadata": {},
   "outputs": [
    {
     "data": {
      "text/html": [
       "<div>\n",
       "<style scoped>\n",
       "    .dataframe tbody tr th:only-of-type {\n",
       "        vertical-align: middle;\n",
       "    }\n",
       "\n",
       "    .dataframe tbody tr th {\n",
       "        vertical-align: top;\n",
       "    }\n",
       "\n",
       "    .dataframe thead th {\n",
       "        text-align: right;\n",
       "    }\n",
       "</style>\n",
       "<table border=\"1\" class=\"dataframe\">\n",
       "  <thead>\n",
       "    <tr style=\"text-align: right;\">\n",
       "      <th></th>\n",
       "      <th>Frequency</th>\n",
       "    </tr>\n",
       "  </thead>\n",
       "  <tbody>\n",
       "    <tr>\n",
       "      <th>F</th>\n",
       "      <td>26</td>\n",
       "    </tr>\n",
       "    <tr>\n",
       "      <th>E</th>\n",
       "      <td>190</td>\n",
       "    </tr>\n",
       "    <tr>\n",
       "      <th>D</th>\n",
       "      <td>367</td>\n",
       "    </tr>\n",
       "    <tr>\n",
       "      <th>C</th>\n",
       "      <td>305</td>\n",
       "    </tr>\n",
       "    <tr>\n",
       "      <th>B</th>\n",
       "      <td>100</td>\n",
       "    </tr>\n",
       "    <tr>\n",
       "      <th>A</th>\n",
       "      <td>12</td>\n",
       "    </tr>\n",
       "    <tr>\n",
       "      <th>Total</th>\n",
       "      <td>1000</td>\n",
       "    </tr>\n",
       "  </tbody>\n",
       "</table>\n",
       "</div>"
      ],
      "text/plain": [
       "       Frequency\n",
       "F             26\n",
       "E            190\n",
       "D            367\n",
       "C            305\n",
       "B            100\n",
       "A             12\n",
       "Total       1000"
      ]
     },
     "execution_count": 209,
     "metadata": {},
     "output_type": "execute_result"
    }
   ],
   "source": [
    "labels = list('ABCDEF')\n",
    "labels.reverse()\n",
    "grades_binned = pd.cut(grades,labels=labels,bins=len(labels))\n",
    "\n",
    "df_grades_categorical = pd.DataFrame(grades_binned.value_counts(),columns=['Frequency'])\n",
    "df_grades_categorical.index.rename('Grades',inplace=True)\n",
    "\n",
    "total = pd.DataFrame(len(grades),columns=['Frequency'],index=['Total'])\n",
    "df_grades_categorical.append(total)"
   ]
  },
  {
   "cell_type": "markdown",
   "id": "fcfa813d-5c7b-4862-8828-78224cdc176e",
   "metadata": {},
   "source": [
    "As we can see, by summarizing them into the number of occurences, we get a better picture. We can further improve this by converting them into percentages, or even plotting a histogram."
   ]
  },
  {
   "cell_type": "code",
   "execution_count": 210,
   "id": "717c893e-f749-4a51-b3b4-992724459bef",
   "metadata": {},
   "outputs": [
    {
     "data": {
      "text/html": [
       "<div>\n",
       "<style scoped>\n",
       "    .dataframe tbody tr th:only-of-type {\n",
       "        vertical-align: middle;\n",
       "    }\n",
       "\n",
       "    .dataframe tbody tr th {\n",
       "        vertical-align: top;\n",
       "    }\n",
       "\n",
       "    .dataframe thead th {\n",
       "        text-align: right;\n",
       "    }\n",
       "</style>\n",
       "<table border=\"1\" class=\"dataframe\">\n",
       "  <thead>\n",
       "    <tr style=\"text-align: right;\">\n",
       "      <th></th>\n",
       "      <th>Frequency</th>\n",
       "    </tr>\n",
       "  </thead>\n",
       "  <tbody>\n",
       "    <tr>\n",
       "      <th>F</th>\n",
       "      <td>2.60%</td>\n",
       "    </tr>\n",
       "    <tr>\n",
       "      <th>E</th>\n",
       "      <td>19.00%</td>\n",
       "    </tr>\n",
       "    <tr>\n",
       "      <th>D</th>\n",
       "      <td>36.70%</td>\n",
       "    </tr>\n",
       "    <tr>\n",
       "      <th>C</th>\n",
       "      <td>30.50%</td>\n",
       "    </tr>\n",
       "    <tr>\n",
       "      <th>B</th>\n",
       "      <td>10.00%</td>\n",
       "    </tr>\n",
       "    <tr>\n",
       "      <th>A</th>\n",
       "      <td>1.20%</td>\n",
       "    </tr>\n",
       "    <tr>\n",
       "      <th>Total</th>\n",
       "      <td>100%</td>\n",
       "    </tr>\n",
       "  </tbody>\n",
       "</table>\n",
       "</div>"
      ],
      "text/plain": [
       "      Frequency\n",
       "F         2.60%\n",
       "E        19.00%\n",
       "D        36.70%\n",
       "C        30.50%\n",
       "B        10.00%\n",
       "A         1.20%\n",
       "Total      100%"
      ]
     },
     "execution_count": 210,
     "metadata": {},
     "output_type": "execute_result"
    }
   ],
   "source": [
    "df_grades_categorical['Frequency'] *= 100 / len(df_grades)\n",
    "df_grades_categorical['Frequency'] = df_grades_categorical['Frequency'].apply(lambda x : '{:.2f}%'.format(x))\n",
    "df_grades_categorical = df_grades_categorical.append(total)\n",
    "df_grades_categorical.iloc[-1] = '100%'\n",
    "\n",
    "df_grades_categorical"
   ]
  },
  {
   "cell_type": "code",
   "execution_count": 211,
   "id": "a39677bb-eb8a-42fc-a52f-d69edaf3f270",
   "metadata": {},
   "outputs": [
    {
     "data": {
      "image/png": "[encoded data removed]",
      "text/plain": [
       "<Figure size 864x360 with 1 Axes>"
      ]
     },
     "metadata": {},
     "output_type": "display_data"
    }
   ],
   "source": [
    "plt.figure(figsize=(12,5))\n",
    "percentages = df_grades_categorical['Frequency'].apply(lambda x : x.replace('%','')).astype(np.float64)\n",
    "percentages.iloc[:-1].plot(kind='bar')\n",
    "plt.xlabel('Grades')\n",
    "plt.ylabel('Frequency (%)')\n",
    "plt.title('Histogram of the grades of a particular subject obtained by 1000 students')\n",
    "plt.show()"
   ]
  },
  {
   "cell_type": "markdown",
   "id": "9a644e2a-55f7-447f-ba35-bb6ef8fd0144",
   "metadata": {},
   "source": [
    "As we can see, it is easier for us to visualize the results with a histogram/frequency table. We can see that the majority of the students have obtained Cs and Ds for the subject. In this case, we can conclude that this subject may be a difficult subject for most students as the frequency for A grade is less than 5%, and the frequency for C and D grades are quite high."
   ]
  },
  {
   "cell_type": "markdown",
   "id": "21432599-adf4-4f1e-9626-f463d95e17e3",
   "metadata": {},
   "source": [
    "In contrast to frequency tables which concerns one variable, _contingency tables_ (or _cross tabulation/crosstabs_) are similar to the frequency table, but it is concerned with two or more variables. Suppose we want to see how chocolate consumption in grams per week affects body weight:"
   ]
  },
  {
   "cell_type": "code",
   "execution_count": 281,
   "id": "a5dd0a38-bf98-40ad-becd-abf272ff5606",
   "metadata": {},
   "outputs": [
    {
     "data": {
      "image/png": "[encoded data removed]",
      "text/plain": [
       "<Figure size 864x360 with 1 Axes>"
      ]
     },
     "metadata": {},
     "output_type": "display_data"
    }
   ],
   "source": [
    "chocolates_per_wk = np.random.uniform(150,100,200) * 10\n",
    "body_weight_kg = np.random.uniform(200,0.5,200) + chocolates_per_wk\n",
    "\n",
    "plt.figure(figsize=(12,5))\n",
    "plt.scatter(chocolates_per_wk,body_weight_kg)\n",
    "plt.xlabel('Chocolate consumption per week')\n",
    "plt.ylabel('Body weight (kg)')\n",
    "plt.show()"
   ]
  },
  {
   "cell_type": "code",
   "execution_count": 442,
   "id": "1b17b933-cd07-4776-abc6-544c06b91c92",
   "metadata": {},
   "outputs": [],
   "source": [
    "rows = ['< 50','50 - 69','70 - 89','>= 90']   # Body weight\n",
    "cols = ['< 50','50 - 150','> 150']   # Chocolate consumption\n",
    "\n",
    "df = pd.DataFrame({'chocolates_per_wk':chocolates_per_wk,'body_weight (kg)':body_weight_kg})\n",
    "body_weight_bins = pd.cut(body_weight_kg,labels=cols,bins=len(cols))\n",
    "chocolate_bins = pd.cut(chocolates_per_wk,labels=rows,bins=len(rows))\n",
    "\n",
    "cross_tab = pd.crosstab(body_weight_bins,chocolate_bins)\n",
    "\n",
    "total_weight = [cross_tab.iloc[idx].sum() for idx in range(len(cross_tab))]\n",
    "total_consumption = dict([(cross_tab.columns[idx],cross_tab.T.iloc[idx].sum()) for idx in range(len(cross_tab.T))])\n",
    "total_weight.append(200)"
   ]
  },
  {
   "cell_type": "code",
   "execution_count": 443,
   "id": "8dd906d0-4f96-4f54-ac21-d7f1e18a3ce0",
   "metadata": {},
   "outputs": [
    {
     "data": {
      "text/html": [
       "<div>\n",
       "<style scoped>\n",
       "    .dataframe tbody tr th:only-of-type {\n",
       "        vertical-align: middle;\n",
       "    }\n",
       "\n",
       "    .dataframe tbody tr th {\n",
       "        vertical-align: top;\n",
       "    }\n",
       "\n",
       "    .dataframe thead th {\n",
       "        text-align: right;\n",
       "    }\n",
       "</style>\n",
       "<table border=\"1\" class=\"dataframe\">\n",
       "  <thead>\n",
       "    <tr style=\"text-align: right;\">\n",
       "      <th>Body weight (kg)</th>\n",
       "      <th>&lt; 50</th>\n",
       "      <th>50 - 69</th>\n",
       "      <th>70 - 89</th>\n",
       "      <th>&gt;= 90</th>\n",
       "      <th>Total</th>\n",
       "    </tr>\n",
       "    <tr>\n",
       "      <th>Chocolate consumption (grams)</th>\n",
       "      <th></th>\n",
       "      <th></th>\n",
       "      <th></th>\n",
       "      <th></th>\n",
       "      <th></th>\n",
       "    </tr>\n",
       "  </thead>\n",
       "  <tbody>\n",
       "    <tr>\n",
       "      <th>&lt; 50</th>\n",
       "      <td>44</td>\n",
       "      <td>12</td>\n",
       "      <td>0</td>\n",
       "      <td>0</td>\n",
       "      <td>56</td>\n",
       "    </tr>\n",
       "    <tr>\n",
       "      <th>50 - 150</th>\n",
       "      <td>9</td>\n",
       "      <td>32</td>\n",
       "      <td>44</td>\n",
       "      <td>3</td>\n",
       "      <td>88</td>\n",
       "    </tr>\n",
       "    <tr>\n",
       "      <th>&gt; 150</th>\n",
       "      <td>0</td>\n",
       "      <td>0</td>\n",
       "      <td>20</td>\n",
       "      <td>36</td>\n",
       "      <td>56</td>\n",
       "    </tr>\n",
       "    <tr>\n",
       "      <th>Total</th>\n",
       "      <td>53</td>\n",
       "      <td>44</td>\n",
       "      <td>64</td>\n",
       "      <td>39</td>\n",
       "      <td>200</td>\n",
       "    </tr>\n",
       "  </tbody>\n",
       "</table>\n",
       "</div>"
      ],
      "text/plain": [
       "Body weight (kg)               < 50  50 - 69  70 - 89  >= 90  Total\n",
       "Chocolate consumption (grams)                                      \n",
       "< 50                             44       12        0      0     56\n",
       "50 - 150                          9       32       44      3     88\n",
       "> 150                             0        0       20     36     56\n",
       "Total                            53       44       64     39    200"
      ]
     },
     "execution_count": 443,
     "metadata": {},
     "output_type": "execute_result"
    }
   ],
   "source": [
    "cross_tab = cross_tab.append(pd.DataFrame(total_consumption,['Total']))\n",
    "cross_tab.insert(len(cross_tab.columns),'Total',total_weight,True)\n",
    "cross_tab.index.name = 'Chocolate consumption (grams)'\n",
    "cross_tab.columns.name = 'Body weight (kg)'\n",
    "cross_tab"
   ]
  },
  {
   "cell_type": "markdown",
   "id": "4107dc67-1447-4ea9-8222-25d1d3a5cd3d",
   "metadata": {},
   "source": [
    "As we can see, using a contingency table allows us to show a summary similar to the frequency table, but with two variables. We can further improve it by representing the values as percentages, which allows us to compare relative to each other. In the improved contingency table below, we can see that most of the people who has consumped more than 150 grams of chocolate are heavier than 90kg."
   ]
  },
  {
   "cell_type": "code",
   "execution_count": 445,
   "id": "764100f2-7458-485d-ba0b-c7a603b103ee",
   "metadata": {},
   "outputs": [
    {
     "data": {
      "text/html": [
       "<div>\n",
       "<style scoped>\n",
       "    .dataframe tbody tr th:only-of-type {\n",
       "        vertical-align: middle;\n",
       "    }\n",
       "\n",
       "    .dataframe tbody tr th {\n",
       "        vertical-align: top;\n",
       "    }\n",
       "\n",
       "    .dataframe thead th {\n",
       "        text-align: right;\n",
       "    }\n",
       "</style>\n",
       "<table border=\"1\" class=\"dataframe\">\n",
       "  <thead>\n",
       "    <tr style=\"text-align: right;\">\n",
       "      <th>Body weight (kg)</th>\n",
       "      <th>&lt; 50</th>\n",
       "      <th>50 - 69</th>\n",
       "      <th>70 - 89</th>\n",
       "      <th>&gt;= 90</th>\n",
       "      <th>Total</th>\n",
       "    </tr>\n",
       "    <tr>\n",
       "      <th>Chocolate consumption (grams)</th>\n",
       "      <th></th>\n",
       "      <th></th>\n",
       "      <th></th>\n",
       "      <th></th>\n",
       "      <th></th>\n",
       "    </tr>\n",
       "  </thead>\n",
       "  <tbody>\n",
       "    <tr>\n",
       "      <th>&lt; 50</th>\n",
       "      <td>22.00%</td>\n",
       "      <td>6.00%</td>\n",
       "      <td>0.00%</td>\n",
       "      <td>0.00%</td>\n",
       "      <td>28.00%</td>\n",
       "    </tr>\n",
       "    <tr>\n",
       "      <th>50 - 150</th>\n",
       "      <td>4.50%</td>\n",
       "      <td>16.00%</td>\n",
       "      <td>22.00%</td>\n",
       "      <td>1.50%</td>\n",
       "      <td>44.00%</td>\n",
       "    </tr>\n",
       "    <tr>\n",
       "      <th>&gt; 150</th>\n",
       "      <td>0.00%</td>\n",
       "      <td>0.00%</td>\n",
       "      <td>10.00%</td>\n",
       "      <td>18.00%</td>\n",
       "      <td>28.00%</td>\n",
       "    </tr>\n",
       "    <tr>\n",
       "      <th>Total</th>\n",
       "      <td>26.50%</td>\n",
       "      <td>22.00%</td>\n",
       "      <td>32.00%</td>\n",
       "      <td>19.50%</td>\n",
       "      <td>100.00%</td>\n",
       "    </tr>\n",
       "  </tbody>\n",
       "</table>\n",
       "</div>"
      ],
      "text/plain": [
       "Body weight (kg)                 < 50 50 - 69 70 - 89   >= 90    Total\n",
       "Chocolate consumption (grams)                                         \n",
       "< 50                           22.00%   6.00%   0.00%   0.00%   28.00%\n",
       "50 - 150                        4.50%  16.00%  22.00%   1.50%   44.00%\n",
       "> 150                           0.00%   0.00%  10.00%  18.00%   28.00%\n",
       "Total                          26.50%  22.00%  32.00%  19.50%  100.00%"
      ]
     },
     "execution_count": 445,
     "metadata": {},
     "output_type": "execute_result"
    }
   ],
   "source": [
    "cross_tab.applymap(lambda x : '{:.2f}%'.format(x  / 200 * 100))"
   ]
  }
 ],
 "metadata": {
  "kernelspec": {
   "display_name": "Python 3",
   "language": "python",
   "name": "python3"
  },
  "language_info": {
   "codemirror_mode": {
    "name": "ipython",
    "version": 3
   },
   "file_extension": ".py",
   "mimetype": "text/x-python",
   "name": "python",
   "nbconvert_exporter": "python",
   "pygments_lexer": "ipython3",
   "version": "3.8.8"
  }
 },
 "nbformat": 4,
 "nbformat_minor": 5
}
