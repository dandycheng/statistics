{
 "cells": [
  {
   "cell_type": "code",
   "execution_count": 1,
   "id": "0d8262a9-e03d-4136-ac18-5dd5582fe787",
   "metadata": {},
   "outputs": [],
   "source": [
    "import numpy as np\n",
    "import matplotlib.pyplot as plt\n",
    "import seaborn as sns\n",
    "\n",
    "sns.set()"
   ]
  },
  {
   "cell_type": "markdown",
   "id": "abf1b4e4-42d6-4478-99ad-5d6da8bb66d4",
   "metadata": {},
   "source": [
    "The variance of a data tells us how _dispersed_ the data is from the mean. The larger the variance, the more dispersed the data is.\n",
    "\n",
    "#### Population variance\n",
    "$$\\sigma^2 = \\frac{\\sum (x - \\bar{x})^2}{n - 1}$$\n",
    "\n",
    "#### Sample variance\n",
    "$$S^2 = \\frac{\\sum (x - \\bar{x})^2}{n - 1}$$\n",
    "\n",
    "where $n$ is the population/sample mean.\n",
    "The deviation, represented by:\n",
    "$$x - \\bar{x}$$ \n",
    "is known as the residuals/deviations. It is squared to preventing cancelling each other out."
   ]
  },
  {
   "cell_type": "code",
   "execution_count": 112,
   "id": "80a67c8e-ef4a-48ef-978d-5f6733a91a2a",
   "metadata": {},
   "outputs": [],
   "source": [
    "x1 = np.random.normal(0,0.5,115) * 8\n",
    "x2 = np.random.normal(0,0.5,100) * 10\n",
    "N = len(x1)\n",
    "\n",
    "x3 = np.random.randint(low=-2,high=5,size=(15,))\n",
    "x2 = np.concatenate((x2,x3))"
   ]
  },
  {
   "cell_type": "code",
   "execution_count": 113,
   "id": "ebf6aa99-3b7f-4fce-a536-2446482000c3",
   "metadata": {},
   "outputs": [
    {
     "data": {
      "image/png": "[encoded data removed]",
      "text/plain": [
       "<Figure size 864x360 with 2 Axes>"
      ]
     },
     "metadata": {},
     "output_type": "display_data"
    }
   ],
   "source": [
    "plt.figure(figsize=(12,5))\n",
    "plt.subplot(1,2,1)\n",
    "plt.title('Distribution 1')\n",
    "plt.hist(x1,bins=50)\n",
    "plt.subplot(1,2,2)\n",
    "plt.title('Distribution 2')\n",
    "plt.hist(x2,bins=50)\n",
    "plt.show()"
   ]
  },
  {
   "cell_type": "code",
   "execution_count": 114,
   "id": "dc4c123a-780c-4272-9f49-77dd7f7bab66",
   "metadata": {},
   "outputs": [
    {
     "name": "stdout",
     "output_type": "stream",
     "text": [
      "Variance for distribution 1: 20.33087398823587\n",
      "Variance for distribution 2: 25.623566448889775\n"
     ]
    }
   ],
   "source": [
    "var1 = sum((x1 - x1.mean()) ** 2) / (N - 1)\n",
    "var2 = sum((x2 - x2.mean()) ** 2) / (N - 1)\n",
    "\n",
    "print(f'Variance for distribution 1: {var1}')\n",
    "print(f'Variance for distribution 2: {var2}')"
   ]
  },
  {
   "cell_type": "markdown",
   "id": "d8788c7f-5ccb-4919-86ea-238910c3f9ff",
   "metadata": {},
   "source": [
    "Although with the variance calculated, it is difficult to tell which distribution has more variance as both data are not standardized. As seen in **distribution 1**, the scale is slightly different from that of **distribution 2**.\n",
    "\n",
    "To properly measure the variance, we can use _standard deviation_. Standard deviation measures the average distance of a data point from the mean. To find the standard deviation, we just need to take the square root of the variance.\n",
    "\n",
    "#### Population variance\n",
    "$$\\sigma^2 = \\sqrt{S^2}$$\n",
    "\n",
    "#### Sample variance\n",
    "$$S = \\sqrt{S^2}$$\n",
    "\n",
    "Similarly, the larger the standard deviation, the more dispersed the data is."
   ]
  },
  {
   "cell_type": "code",
   "execution_count": 115,
   "id": "b1cdb17d-666a-4d8a-ac88-0d05c169e794",
   "metadata": {},
   "outputs": [
    {
     "name": "stdout",
     "output_type": "stream",
     "text": [
      "Standard deviation for distribution 1: 4.508977044545233\n",
      "Standard deviation for distribution 2: 5.06197258476276\n"
     ]
    }
   ],
   "source": [
    "std1 = np.sqrt(var1)\n",
    "std2 = np.sqrt(var2)\n",
    "\n",
    "print(f'Standard deviation for distribution 1: {std1}')\n",
    "print(f'Standard deviation for distribution 2: {std2}')"
   ]
  },
  {
   "cell_type": "markdown",
   "id": "cd6d9a83-5c58-4058-95c6-3634a81dbe3e",
   "metadata": {},
   "source": [
    "That's better, we can see that **distribution 2** has more variability than **distribution 1** at a standarized scale. This allows us to make better comparisons with respect to other distributions."
   ]
  }
 ],
 "metadata": {
  "kernelspec": {
   "display_name": "Python 3",
   "language": "python",
   "name": "python3"
  },
  "language_info": {
   "codemirror_mode": {
    "name": "ipython",
    "version": 3
   },
   "file_extension": ".py",
   "mimetype": "text/x-python",
   "name": "python",
   "nbconvert_exporter": "python",
   "pygments_lexer": "ipython3",
   "version": "3.8.8"
  }
 },
 "nbformat": 4,
 "nbformat_minor": 5
}
