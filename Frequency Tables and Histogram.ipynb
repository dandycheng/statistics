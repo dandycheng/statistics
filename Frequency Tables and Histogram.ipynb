{
 "cells": [
  {
   "cell_type": "code",
   "execution_count": 48,
   "id": "085ec56b-4fca-4e9c-80e8-7827d6eccd0d",
   "metadata": {},
   "outputs": [],
   "source": [
    "import pandas as pd\n",
    "import numpy as np\n",
    "import matplotlib.pyplot as plt\n",
    "import seaborn as sns\n",
    "\n",
    "sns.set()"
   ]
  },
  {
   "cell_type": "markdown",
   "id": "a2925f63-e159-4edc-870f-4426b29ed53c",
   "metadata": {},
   "source": [
    "A frequency table allows us to summarize from a large dataset. For instance, suppose we have a table that shows the marks achieved by 1000 students for a particular subject, as shown in the table below. Due to the amount of data we have, it is impossible to analyze the data one by one. However, we can summarize this by converting them into _categorical variables_, and identify the occurence of each category."
   ]
  },
  {
   "cell_type": "code",
   "execution_count": 202,
   "id": "fc010453-7e73-43d2-89bd-f94a012e8dde",
   "metadata": {},
   "outputs": [
    {
     "data": {
      "text/html": [
       "<div>\n",
       "<style scoped>\n",
       "    .dataframe tbody tr th:only-of-type {\n",
       "        vertical-align: middle;\n",
       "    }\n",
       "\n",
       "    .dataframe tbody tr th {\n",
       "        vertical-align: top;\n",
       "    }\n",
       "\n",
       "    .dataframe thead th {\n",
       "        text-align: right;\n",
       "    }\n",
       "</style>\n",
       "<table border=\"1\" class=\"dataframe\">\n",
       "  <thead>\n",
       "    <tr style=\"text-align: right;\">\n",
       "      <th></th>\n",
       "      <th>Marks</th>\n",
       "    </tr>\n",
       "  </thead>\n",
       "  <tbody>\n",
       "    <tr>\n",
       "      <th>0</th>\n",
       "      <td>49</td>\n",
       "    </tr>\n",
       "    <tr>\n",
       "      <th>1</th>\n",
       "      <td>58</td>\n",
       "    </tr>\n",
       "    <tr>\n",
       "      <th>2</th>\n",
       "      <td>63</td>\n",
       "    </tr>\n",
       "    <tr>\n",
       "      <th>3</th>\n",
       "      <td>58</td>\n",
       "    </tr>\n",
       "    <tr>\n",
       "      <th>4</th>\n",
       "      <td>46</td>\n",
       "    </tr>\n",
       "    <tr>\n",
       "      <th>...</th>\n",
       "      <td>...</td>\n",
       "    </tr>\n",
       "    <tr>\n",
       "      <th>995</th>\n",
       "      <td>48</td>\n",
       "    </tr>\n",
       "    <tr>\n",
       "      <th>996</th>\n",
       "      <td>51</td>\n",
       "    </tr>\n",
       "    <tr>\n",
       "      <th>997</th>\n",
       "      <td>43</td>\n",
       "    </tr>\n",
       "    <tr>\n",
       "      <th>998</th>\n",
       "      <td>49</td>\n",
       "    </tr>\n",
       "    <tr>\n",
       "      <th>999</th>\n",
       "      <td>45</td>\n",
       "    </tr>\n",
       "  </tbody>\n",
       "</table>\n",
       "<p>1000 rows × 1 columns</p>\n",
       "</div>"
      ],
      "text/plain": [
       "     Marks\n",
       "0       49\n",
       "1       58\n",
       "2       63\n",
       "3       58\n",
       "4       46\n",
       "..     ...\n",
       "995     48\n",
       "996     51\n",
       "997     43\n",
       "998     49\n",
       "999     45\n",
       "\n",
       "[1000 rows x 1 columns]"
      ]
     },
     "execution_count": 202,
     "metadata": {},
     "output_type": "execute_result"
    }
   ],
   "source": [
    "grades = np.random.poisson(50,1000)\n",
    "df_grades = pd.DataFrame(grades,columns=['Marks'])\n",
    "\n",
    "df_grades"
   ]
  },
  {
   "cell_type": "code",
   "execution_count": 203,
   "id": "4aeb1fbc-ec38-499a-b661-c08a12f4fc65",
   "metadata": {},
   "outputs": [
    {
     "data": {
      "text/html": [
       "<div>\n",
       "<style scoped>\n",
       "    .dataframe tbody tr th:only-of-type {\n",
       "        vertical-align: middle;\n",
       "    }\n",
       "\n",
       "    .dataframe tbody tr th {\n",
       "        vertical-align: top;\n",
       "    }\n",
       "\n",
       "    .dataframe thead th {\n",
       "        text-align: right;\n",
       "    }\n",
       "</style>\n",
       "<table border=\"1\" class=\"dataframe\">\n",
       "  <thead>\n",
       "    <tr style=\"text-align: right;\">\n",
       "      <th></th>\n",
       "      <th>Frequency</th>\n",
       "    </tr>\n",
       "  </thead>\n",
       "  <tbody>\n",
       "    <tr>\n",
       "      <th>F</th>\n",
       "      <td>3</td>\n",
       "    </tr>\n",
       "    <tr>\n",
       "      <th>E</th>\n",
       "      <td>106</td>\n",
       "    </tr>\n",
       "    <tr>\n",
       "      <th>D</th>\n",
       "      <td>418</td>\n",
       "    </tr>\n",
       "    <tr>\n",
       "      <th>C</th>\n",
       "      <td>379</td>\n",
       "    </tr>\n",
       "    <tr>\n",
       "      <th>B</th>\n",
       "      <td>83</td>\n",
       "    </tr>\n",
       "    <tr>\n",
       "      <th>A</th>\n",
       "      <td>11</td>\n",
       "    </tr>\n",
       "    <tr>\n",
       "      <th>Total</th>\n",
       "      <td>1000</td>\n",
       "    </tr>\n",
       "  </tbody>\n",
       "</table>\n",
       "</div>"
      ],
      "text/plain": [
       "       Frequency\n",
       "F              3\n",
       "E            106\n",
       "D            418\n",
       "C            379\n",
       "B             83\n",
       "A             11\n",
       "Total       1000"
      ]
     },
     "execution_count": 203,
     "metadata": {},
     "output_type": "execute_result"
    }
   ],
   "source": [
    "labels = list('ABCDEF')\n",
    "labels.reverse()\n",
    "grades_binned = pd.cut(grades,labels=labels,bins=len(labels))\n",
    "\n",
    "df_grades_categorical = pd.DataFrame(grades_binned.value_counts(),columns=['Frequency'])\n",
    "df_grades_categorical.index.rename('Grades',inplace=True)\n",
    "\n",
    "total = pd.DataFrame(len(grades),columns=['Frequency'],index=['Total'])\n",
    "df_grades_categorical.append(total)"
   ]
  },
  {
   "cell_type": "markdown",
   "id": "fcfa813d-5c7b-4862-8828-78224cdc176e",
   "metadata": {},
   "source": [
    "As we can see, by summarizing them into the number of occurences, we get a better picture. We can further improve this by converting them into percentages, or even plotting a histogram."
   ]
  },
  {
   "cell_type": "code",
   "execution_count": 204,
   "id": "717c893e-f749-4a51-b3b4-992724459bef",
   "metadata": {},
   "outputs": [
    {
     "data": {
      "text/html": [
       "<div>\n",
       "<style scoped>\n",
       "    .dataframe tbody tr th:only-of-type {\n",
       "        vertical-align: middle;\n",
       "    }\n",
       "\n",
       "    .dataframe tbody tr th {\n",
       "        vertical-align: top;\n",
       "    }\n",
       "\n",
       "    .dataframe thead th {\n",
       "        text-align: right;\n",
       "    }\n",
       "</style>\n",
       "<table border=\"1\" class=\"dataframe\">\n",
       "  <thead>\n",
       "    <tr style=\"text-align: right;\">\n",
       "      <th></th>\n",
       "      <th>Frequency</th>\n",
       "    </tr>\n",
       "  </thead>\n",
       "  <tbody>\n",
       "    <tr>\n",
       "      <th>F</th>\n",
       "      <td>0.30%</td>\n",
       "    </tr>\n",
       "    <tr>\n",
       "      <th>E</th>\n",
       "      <td>10.60%</td>\n",
       "    </tr>\n",
       "    <tr>\n",
       "      <th>D</th>\n",
       "      <td>41.80%</td>\n",
       "    </tr>\n",
       "    <tr>\n",
       "      <th>C</th>\n",
       "      <td>37.90%</td>\n",
       "    </tr>\n",
       "    <tr>\n",
       "      <th>B</th>\n",
       "      <td>8.30%</td>\n",
       "    </tr>\n",
       "    <tr>\n",
       "      <th>A</th>\n",
       "      <td>1.10%</td>\n",
       "    </tr>\n",
       "    <tr>\n",
       "      <th>Total</th>\n",
       "      <td>100%</td>\n",
       "    </tr>\n",
       "  </tbody>\n",
       "</table>\n",
       "</div>"
      ],
      "text/plain": [
       "      Frequency\n",
       "F         0.30%\n",
       "E        10.60%\n",
       "D        41.80%\n",
       "C        37.90%\n",
       "B         8.30%\n",
       "A         1.10%\n",
       "Total      100%"
      ]
     },
     "execution_count": 204,
     "metadata": {},
     "output_type": "execute_result"
    }
   ],
   "source": [
    "df_grades_categorical['Frequency'] *= 100 / len(df_grades)\n",
    "df_grades_categorical['Frequency'] = df_grades_categorical['Frequency'].apply(lambda x : '{:.2f}%'.format(x))\n",
    "df_grades_categorical = df_grades_categorical.append(total)\n",
    "df_grades_categorical.iloc[-1] = '100%'\n",
    "\n",
    "df_grades_categorical"
   ]
  },
  {
   "cell_type": "code",
   "execution_count": 206,
   "id": "a39677bb-eb8a-42fc-a52f-d69edaf3f270",
   "metadata": {},
   "outputs": [
    {
     "data": {
      "image/png": "[encoded data removed]",
      "text/plain": [
       "<Figure size 864x360 with 1 Axes>"
      ]
     },
     "metadata": {},
     "output_type": "display_data"
    }
   ],
   "source": [
    "plt.figure(figsize=(12,5))\n",
    "percentages = df_grades_categorical['Frequency'].apply(lambda x : x.replace('%','')).astype(np.float64)\n",
    "percentages.iloc[:-1].plot(kind='bar')\n",
    "plt.xlabel('Grades')\n",
    "plt.ylabel('Frequency (%)')\n",
    "plt.title('Histogram of the grades of a particular subject obtained by 1000 students')\n",
    "plt.show()"
   ]
  },
  {
   "cell_type": "markdown",
   "id": "9a644e2a-55f7-447f-ba35-bb6ef8fd0144",
   "metadata": {},
   "source": [
    "As we can see, it is easier for us to visualize the results with a histogram/frequency table. We can see that the majority of the students have obtained Cs and Ds for the subject. In this case, we can conclude that this subject may be a difficult subject for most students as the frequency for A grade is less than 5%, and the frequency for C and D grades are quite high."
   ]
  }
 ],
 "metadata": {
  "kernelspec": {
   "display_name": "Python 3",
   "language": "python",
   "name": "python3"
  },
  "language_info": {
   "codemirror_mode": {
    "name": "ipython",
    "version": 3
   },
   "file_extension": ".py",
   "mimetype": "text/x-python",
   "name": "python",
   "nbconvert_exporter": "python",
   "pygments_lexer": "ipython3",
   "version": "3.8.8"
  }
 },
 "nbformat": 4,
 "nbformat_minor": 5
}
